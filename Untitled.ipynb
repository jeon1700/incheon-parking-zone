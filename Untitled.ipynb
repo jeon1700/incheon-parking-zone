{
 "cells": [
  {
   "cell_type": "code",
   "execution_count": 132,
   "id": "ea3a5e40",
   "metadata": {},
   "outputs": [],
   "source": [
    "import pandas as pd\n",
    "import numpy as np\n",
    "import matplotlib.pyplot as plt\n",
    "import seaborn as sb"
   ]
  },
  {
   "cell_type": "code",
   "execution_count": 133,
   "id": "69cf8e38",
   "metadata": {},
   "outputs": [],
   "source": [
    "import platform\n",
    "from matplotlib import font_manager, rc\n",
    "plt.rcParams['axes.unicode_minus'] = False\n",
    "if platform.system() == 'Linux':\n",
    "    rc('font', family='NanumGothic')"
   ]
  },
  {
   "cell_type": "code",
   "execution_count": 134,
   "id": "229b4195",
   "metadata": {},
   "outputs": [],
   "source": [
    "df = pd.read_csv('C:\\\\Users\\\\leegy\\\\OneDrive\\\\문서\\\\GitHub\\\\incheon-parking-zone\\\\data\\\\incheon.csv')"
   ]
  },
  {
   "cell_type": "code",
   "execution_count": 135,
   "id": "20f83fe5",
   "metadata": {
    "scrolled": true
   },
   "outputs": [
    {
     "data": {
      "text/html": [
       "<div>\n",
       "<style scoped>\n",
       "    .dataframe tbody tr th:only-of-type {\n",
       "        vertical-align: middle;\n",
       "    }\n",
       "\n",
       "    .dataframe tbody tr th {\n",
       "        vertical-align: top;\n",
       "    }\n",
       "\n",
       "    .dataframe thead th {\n",
       "        text-align: right;\n",
       "    }\n",
       "</style>\n",
       "<table border=\"1\" class=\"dataframe\">\n",
       "  <thead>\n",
       "    <tr style=\"text-align: right;\">\n",
       "      <th></th>\n",
       "      <th>지역구</th>\n",
       "      <th>지역명</th>\n",
       "      <th>주차 시작점</th>\n",
       "      <th>주차 종료점</th>\n",
       "      <th>구간길이</th>\n",
       "      <th>평일운영시작시각</th>\n",
       "      <th>평일운영종료시각</th>\n",
       "      <th>주말운영시작시각</th>\n",
       "      <th>주말운영종료시각</th>\n",
       "      <th>공휴일운영시작시각</th>\n",
       "      <th>공휴일운영종료시각</th>\n",
       "      <th>주차가능대수</th>\n",
       "      <th>관할동</th>\n",
       "    </tr>\n",
       "  </thead>\n",
       "  <tbody>\n",
       "    <tr>\n",
       "      <th>0</th>\n",
       "      <td>인천광역시 서구</td>\n",
       "      <td>석남동</td>\n",
       "      <td>율도로 98, 석남 국민은행</td>\n",
       "      <td>율도로 115, 진흥아파트 부근</td>\n",
       "      <td>300.0</td>\n",
       "      <td>12:00:00</td>\n",
       "      <td>14:00:00</td>\n",
       "      <td>06:00:00</td>\n",
       "      <td>22:00:00</td>\n",
       "      <td>06:00:00</td>\n",
       "      <td>22:00:00</td>\n",
       "      <td>15.0</td>\n",
       "      <td>석남동</td>\n",
       "    </tr>\n",
       "    <tr>\n",
       "      <th>1</th>\n",
       "      <td>인천광역시 서구</td>\n",
       "      <td>청라동</td>\n",
       "      <td>중봉대로586번길 22, 청라 엑슬루타워 국민은행</td>\n",
       "      <td>청라라임로 51, 우리은행 청라지점</td>\n",
       "      <td>600.0</td>\n",
       "      <td>12:00:00</td>\n",
       "      <td>14:00:00</td>\n",
       "      <td>06:00:00</td>\n",
       "      <td>22:00:00</td>\n",
       "      <td>06:00:00</td>\n",
       "      <td>22:00:00</td>\n",
       "      <td>60.0</td>\n",
       "      <td>청라동</td>\n",
       "    </tr>\n",
       "    <tr>\n",
       "      <th>2</th>\n",
       "      <td>인천광역시 서구</td>\n",
       "      <td>원당동</td>\n",
       "      <td>고산후로121번길 15, 원당파리바게뜨</td>\n",
       "      <td>고산후로121번길 21, 명가공인중개사</td>\n",
       "      <td>340.0</td>\n",
       "      <td>12:00:00</td>\n",
       "      <td>14:00:00</td>\n",
       "      <td>06:00:00</td>\n",
       "      <td>22:00:00</td>\n",
       "      <td>06:00:00</td>\n",
       "      <td>22:00:00</td>\n",
       "      <td>15.0</td>\n",
       "      <td>원당동</td>\n",
       "    </tr>\n",
       "    <tr>\n",
       "      <th>3</th>\n",
       "      <td>인천광역시 서구</td>\n",
       "      <td>당하동</td>\n",
       "      <td>고산후로95번길 32, 푸른솔약국</td>\n",
       "      <td>고산후로95번길 10, 뉴시티프라자</td>\n",
       "      <td>500.0</td>\n",
       "      <td>12:00:00</td>\n",
       "      <td>14:00:00</td>\n",
       "      <td>06:00:00</td>\n",
       "      <td>22:00:00</td>\n",
       "      <td>06:00:00</td>\n",
       "      <td>22:00:00</td>\n",
       "      <td>20.0</td>\n",
       "      <td>당하동</td>\n",
       "    </tr>\n",
       "    <tr>\n",
       "      <th>4</th>\n",
       "      <td>인천광역시 서구</td>\n",
       "      <td>심곡동</td>\n",
       "      <td>서곶로 293, 기업은행</td>\n",
       "      <td>승학로 243, 제스트빌</td>\n",
       "      <td>700.0</td>\n",
       "      <td>12:00:00</td>\n",
       "      <td>14:00:00</td>\n",
       "      <td>NaN</td>\n",
       "      <td>NaN</td>\n",
       "      <td>NaN</td>\n",
       "      <td>NaN</td>\n",
       "      <td>60.0</td>\n",
       "      <td>심곡동</td>\n",
       "    </tr>\n",
       "    <tr>\n",
       "      <th>...</th>\n",
       "      <td>...</td>\n",
       "      <td>...</td>\n",
       "      <td>...</td>\n",
       "      <td>...</td>\n",
       "      <td>...</td>\n",
       "      <td>...</td>\n",
       "      <td>...</td>\n",
       "      <td>...</td>\n",
       "      <td>...</td>\n",
       "      <td>...</td>\n",
       "      <td>...</td>\n",
       "      <td>...</td>\n",
       "      <td>...</td>\n",
       "    </tr>\n",
       "    <tr>\n",
       "      <th>202</th>\n",
       "      <td>인천광역시 동구</td>\n",
       "      <td>방축로83번길</td>\n",
       "      <td>37.48437495503675</td>\n",
       "      <td>37.48669001970454</td>\n",
       "      <td>800.0</td>\n",
       "      <td>10:00</td>\n",
       "      <td>17:00</td>\n",
       "      <td>10:00</td>\n",
       "      <td>17:00</td>\n",
       "      <td>10:00</td>\n",
       "      <td>17:00</td>\n",
       "      <td>80.0</td>\n",
       "      <td>NaN</td>\n",
       "    </tr>\n",
       "    <tr>\n",
       "      <th>203</th>\n",
       "      <td>인천광역시 동구</td>\n",
       "      <td>방축로54번길~방축로72번길</td>\n",
       "      <td>37.48542064898004</td>\n",
       "      <td>37.484406531906856</td>\n",
       "      <td>200.0</td>\n",
       "      <td>10:00</td>\n",
       "      <td>17:00</td>\n",
       "      <td>10:00</td>\n",
       "      <td>17:00</td>\n",
       "      <td>10:00</td>\n",
       "      <td>17:00</td>\n",
       "      <td>20.0</td>\n",
       "      <td>NaN</td>\n",
       "    </tr>\n",
       "    <tr>\n",
       "      <th>204</th>\n",
       "      <td>인천광역시 동구</td>\n",
       "      <td>석수로43~석수로97</td>\n",
       "      <td>37.481026681573155</td>\n",
       "      <td>37.483206346841996</td>\n",
       "      <td>390.0</td>\n",
       "      <td>20:00</td>\n",
       "      <td>07:00</td>\n",
       "      <td>20:00</td>\n",
       "      <td>07:00</td>\n",
       "      <td>20:00</td>\n",
       "      <td>07:00</td>\n",
       "      <td>39.0</td>\n",
       "      <td>NaN</td>\n",
       "    </tr>\n",
       "    <tr>\n",
       "      <th>205</th>\n",
       "      <td>인천광역시 동구</td>\n",
       "      <td>송현로29번길</td>\n",
       "      <td>37.479554204483186</td>\n",
       "      <td>37.47889094832949</td>\n",
       "      <td>150.0</td>\n",
       "      <td>20:00</td>\n",
       "      <td>07:00</td>\n",
       "      <td>20:00</td>\n",
       "      <td>07:00</td>\n",
       "      <td>20:00</td>\n",
       "      <td>07:00</td>\n",
       "      <td>15.0</td>\n",
       "      <td>NaN</td>\n",
       "    </tr>\n",
       "    <tr>\n",
       "      <th>206</th>\n",
       "      <td>인천광역시 동구</td>\n",
       "      <td>송현로59번길</td>\n",
       "      <td>37.48063588250504</td>\n",
       "      <td>37.48080666374521</td>\n",
       "      <td>500.0</td>\n",
       "      <td>20:00</td>\n",
       "      <td>08:00</td>\n",
       "      <td>00:00</td>\n",
       "      <td>23:59</td>\n",
       "      <td>00:00</td>\n",
       "      <td>23:59</td>\n",
       "      <td>5.0</td>\n",
       "      <td>NaN</td>\n",
       "    </tr>\n",
       "  </tbody>\n",
       "</table>\n",
       "<p>207 rows × 13 columns</p>\n",
       "</div>"
      ],
      "text/plain": [
       "          지역구              지역명                       주차 시작점  \\\n",
       "0    인천광역시 서구              석남동              율도로 98, 석남 국민은행   \n",
       "1    인천광역시 서구              청라동  중봉대로586번길 22, 청라 엑슬루타워 국민은행   \n",
       "2    인천광역시 서구              원당동        고산후로121번길 15, 원당파리바게뜨   \n",
       "3    인천광역시 서구              당하동          고산후로95번길 32, 푸른솔약국    \n",
       "4    인천광역시 서구              심곡동                서곶로 293, 기업은행   \n",
       "..        ...              ...                          ...   \n",
       "202  인천광역시 동구          방축로83번길            37.48437495503675   \n",
       "203  인천광역시 동구  방축로54번길~방축로72번길            37.48542064898004   \n",
       "204  인천광역시 동구      석수로43~석수로97           37.481026681573155   \n",
       "205  인천광역시 동구          송현로29번길           37.479554204483186   \n",
       "206  인천광역시 동구          송현로59번길            37.48063588250504   \n",
       "\n",
       "                    주차 종료점   구간길이  평일운영시작시각  평일운영종료시각  주말운영시작시각  주말운영종료시각  \\\n",
       "0        율도로 115, 진흥아파트 부근  300.0  12:00:00  14:00:00  06:00:00  22:00:00   \n",
       "1      청라라임로 51, 우리은행 청라지점  600.0  12:00:00  14:00:00  06:00:00  22:00:00   \n",
       "2    고산후로121번길 21, 명가공인중개사  340.0  12:00:00  14:00:00  06:00:00  22:00:00   \n",
       "3      고산후로95번길 10, 뉴시티프라자  500.0  12:00:00  14:00:00  06:00:00  22:00:00   \n",
       "4            승학로 243, 제스트빌  700.0  12:00:00  14:00:00       NaN       NaN   \n",
       "..                     ...    ...       ...       ...       ...       ...   \n",
       "202      37.48669001970454  800.0     10:00     17:00     10:00     17:00   \n",
       "203     37.484406531906856  200.0     10:00     17:00     10:00     17:00   \n",
       "204     37.483206346841996  390.0     20:00     07:00     20:00     07:00   \n",
       "205      37.47889094832949  150.0     20:00     07:00     20:00     07:00   \n",
       "206      37.48080666374521  500.0     20:00     08:00     00:00     23:59   \n",
       "\n",
       "    공휴일운영시작시각 공휴일운영종료시각  주차가능대수  관할동  \n",
       "0    06:00:00  22:00:00    15.0  석남동  \n",
       "1    06:00:00  22:00:00    60.0  청라동  \n",
       "2    06:00:00  22:00:00    15.0  원당동  \n",
       "3    06:00:00  22:00:00    20.0  당하동  \n",
       "4         NaN       NaN    60.0  심곡동  \n",
       "..        ...       ...     ...  ...  \n",
       "202     10:00     17:00    80.0  NaN  \n",
       "203     10:00     17:00    20.0  NaN  \n",
       "204     20:00     07:00    39.0  NaN  \n",
       "205     20:00     07:00    15.0  NaN  \n",
       "206     00:00     23:59     5.0  NaN  \n",
       "\n",
       "[207 rows x 13 columns]"
      ]
     },
     "execution_count": 135,
     "metadata": {},
     "output_type": "execute_result"
    }
   ],
   "source": [
    "df"
   ]
  },
  {
   "cell_type": "code",
   "execution_count": 136,
   "id": "e7c550bd",
   "metadata": {},
   "outputs": [
    {
     "data": {
      "text/html": [
       "<div>\n",
       "<style scoped>\n",
       "    .dataframe tbody tr th:only-of-type {\n",
       "        vertical-align: middle;\n",
       "    }\n",
       "\n",
       "    .dataframe tbody tr th {\n",
       "        vertical-align: top;\n",
       "    }\n",
       "\n",
       "    .dataframe thead th {\n",
       "        text-align: right;\n",
       "    }\n",
       "</style>\n",
       "<table border=\"1\" class=\"dataframe\">\n",
       "  <thead>\n",
       "    <tr style=\"text-align: right;\">\n",
       "      <th></th>\n",
       "      <th>구간길이</th>\n",
       "      <th>주차가능대수</th>\n",
       "    </tr>\n",
       "  </thead>\n",
       "  <tbody>\n",
       "    <tr>\n",
       "      <th>count</th>\n",
       "      <td>119.000000</td>\n",
       "      <td>124.000000</td>\n",
       "    </tr>\n",
       "    <tr>\n",
       "      <th>mean</th>\n",
       "      <td>378.579832</td>\n",
       "      <td>82.169355</td>\n",
       "    </tr>\n",
       "    <tr>\n",
       "      <th>std</th>\n",
       "      <td>360.341799</td>\n",
       "      <td>123.137488</td>\n",
       "    </tr>\n",
       "    <tr>\n",
       "      <th>min</th>\n",
       "      <td>40.000000</td>\n",
       "      <td>2.000000</td>\n",
       "    </tr>\n",
       "    <tr>\n",
       "      <th>25%</th>\n",
       "      <td>170.000000</td>\n",
       "      <td>19.750000</td>\n",
       "    </tr>\n",
       "    <tr>\n",
       "      <th>50%</th>\n",
       "      <td>250.000000</td>\n",
       "      <td>40.000000</td>\n",
       "    </tr>\n",
       "    <tr>\n",
       "      <th>75%</th>\n",
       "      <td>400.000000</td>\n",
       "      <td>80.000000</td>\n",
       "    </tr>\n",
       "    <tr>\n",
       "      <th>max</th>\n",
       "      <td>2000.000000</td>\n",
       "      <td>640.000000</td>\n",
       "    </tr>\n",
       "  </tbody>\n",
       "</table>\n",
       "</div>"
      ],
      "text/plain": [
       "              구간길이      주차가능대수\n",
       "count   119.000000  124.000000\n",
       "mean    378.579832   82.169355\n",
       "std     360.341799  123.137488\n",
       "min      40.000000    2.000000\n",
       "25%     170.000000   19.750000\n",
       "50%     250.000000   40.000000\n",
       "75%     400.000000   80.000000\n",
       "max    2000.000000  640.000000"
      ]
     },
     "execution_count": 136,
     "metadata": {},
     "output_type": "execute_result"
    }
   ],
   "source": [
    "df.describe()"
   ]
  },
  {
   "cell_type": "code",
   "execution_count": 137,
   "id": "9f474d3d",
   "metadata": {},
   "outputs": [
    {
     "data": {
      "text/plain": [
       "Index(['지역구', '지역명', '주차 시작점', '주차 종료점', '구간길이', '평일운영시작시각', '평일운영종료시각',\n",
       "       '주말운영시작시각', '주말운영종료시각', '공휴일운영시작시각', '공휴일운영종료시각', '주차가능대수', '관할동'],\n",
       "      dtype='object')"
      ]
     },
     "execution_count": 137,
     "metadata": {},
     "output_type": "execute_result"
    }
   ],
   "source": [
    "df.columns[ 0 : ]"
   ]
  },
  {
   "cell_type": "code",
   "execution_count": null,
   "id": "adb61766",
   "metadata": {},
   "outputs": [],
   "source": []
  },
  {
   "cell_type": "code",
   "execution_count": null,
   "id": "fa4a3425",
   "metadata": {},
   "outputs": [],
   "source": []
  },
  {
   "cell_type": "code",
   "execution_count": 162,
   "id": "36ca8a32",
   "metadata": {},
   "outputs": [],
   "source": [
    "df['구간길이'] = df['구간길이'].fillna(0).replace([np.inf, -np.inf], 0).astype(int)"
   ]
  },
  {
   "cell_type": "code",
   "execution_count": 141,
   "id": "52489bb0",
   "metadata": {},
   "outputs": [
    {
     "data": {
      "text/plain": [
       "0      300\n",
       "1      600\n",
       "2      340\n",
       "3      500\n",
       "4      700\n",
       "      ... \n",
       "202    800\n",
       "203    200\n",
       "204    390\n",
       "205    150\n",
       "206    500\n",
       "Name: 구간길이, Length: 207, dtype: int32"
      ]
     },
     "execution_count": 141,
     "metadata": {},
     "output_type": "execute_result"
    }
   ],
   "source": [
    "df['구간길이'].fillna(0)"
   ]
  },
  {
   "cell_type": "code",
   "execution_count": 142,
   "id": "36398bcc",
   "metadata": {},
   "outputs": [],
   "source": [
    "df['구간길이'] = df['구간길이'].astype(int)"
   ]
  },
  {
   "cell_type": "code",
   "execution_count": 143,
   "id": "ab48b874",
   "metadata": {},
   "outputs": [
    {
     "name": "stdout",
     "output_type": "stream",
     "text": [
      "int32\n"
     ]
    }
   ],
   "source": [
    "print(df['구간길이'].dtype)"
   ]
  },
  {
   "cell_type": "code",
   "execution_count": 144,
   "id": "c5439493",
   "metadata": {},
   "outputs": [
    {
     "data": {
      "text/plain": [
       "count     207.000000\n",
       "mean      217.637681\n",
       "std       331.021205\n",
       "min         0.000000\n",
       "25%         0.000000\n",
       "50%       128.000000\n",
       "75%       300.000000\n",
       "max      2000.000000\n",
       "Name: 구간길이, dtype: float64"
      ]
     },
     "execution_count": 144,
     "metadata": {},
     "output_type": "execute_result"
    }
   ],
   "source": [
    "df['구간길이'].describe()"
   ]
  },
  {
   "cell_type": "code",
   "execution_count": 145,
   "id": "ef7aaa2b",
   "metadata": {},
   "outputs": [
    {
     "data": {
      "text/plain": [
       "0"
      ]
     },
     "execution_count": 145,
     "metadata": {},
     "output_type": "execute_result"
    }
   ],
   "source": [
    "df['구간길이'].min()"
   ]
  },
  {
   "cell_type": "code",
   "execution_count": 146,
   "id": "3222b481",
   "metadata": {},
   "outputs": [
    {
     "data": {
      "text/plain": [
       "dtype('int32')"
      ]
     },
     "execution_count": 146,
     "metadata": {},
     "output_type": "execute_result"
    }
   ],
   "source": [
    "df['구간길이'].dtype"
   ]
  },
  {
   "cell_type": "code",
   "execution_count": 147,
   "id": "e61e6a95",
   "metadata": {},
   "outputs": [
    {
     "data": {
      "text/html": [
       "<div>\n",
       "<style scoped>\n",
       "    .dataframe tbody tr th:only-of-type {\n",
       "        vertical-align: middle;\n",
       "    }\n",
       "\n",
       "    .dataframe tbody tr th {\n",
       "        vertical-align: top;\n",
       "    }\n",
       "\n",
       "    .dataframe thead th {\n",
       "        text-align: right;\n",
       "    }\n",
       "</style>\n",
       "<table border=\"1\" class=\"dataframe\">\n",
       "  <thead>\n",
       "    <tr style=\"text-align: right;\">\n",
       "      <th></th>\n",
       "      <th>지역구</th>\n",
       "      <th>지역명</th>\n",
       "      <th>주차 시작점</th>\n",
       "      <th>주차 종료점</th>\n",
       "      <th>구간길이</th>\n",
       "      <th>평일운영시작시각</th>\n",
       "      <th>평일운영종료시각</th>\n",
       "      <th>주말운영시작시각</th>\n",
       "      <th>주말운영종료시각</th>\n",
       "      <th>공휴일운영시작시각</th>\n",
       "      <th>공휴일운영종료시각</th>\n",
       "      <th>주차가능대수</th>\n",
       "      <th>관할동</th>\n",
       "    </tr>\n",
       "  </thead>\n",
       "  <tbody>\n",
       "    <tr>\n",
       "      <th>89</th>\n",
       "      <td>인천광역시 중구</td>\n",
       "      <td>은하수로</td>\n",
       "      <td>37.492322</td>\n",
       "      <td>37.491748</td>\n",
       "      <td>0</td>\n",
       "      <td>NaN</td>\n",
       "      <td>NaN</td>\n",
       "      <td>00:00~23:59</td>\n",
       "      <td>NaN</td>\n",
       "      <td>NaN</td>\n",
       "      <td>NaN</td>\n",
       "      <td>100.0</td>\n",
       "      <td>인천광역시 중구청</td>\n",
       "    </tr>\n",
       "    <tr>\n",
       "      <th>90</th>\n",
       "      <td>인천광역시 중구</td>\n",
       "      <td>하늘별빛로</td>\n",
       "      <td>37.494568</td>\n",
       "      <td>37.485681</td>\n",
       "      <td>0</td>\n",
       "      <td>NaN</td>\n",
       "      <td>NaN</td>\n",
       "      <td>00:00~23:59</td>\n",
       "      <td>NaN</td>\n",
       "      <td>NaN</td>\n",
       "      <td>NaN</td>\n",
       "      <td>320.0</td>\n",
       "      <td>인천광역시 중구청</td>\n",
       "    </tr>\n",
       "    <tr>\n",
       "      <th>91</th>\n",
       "      <td>인천광역시 중구</td>\n",
       "      <td>하늘중앙로</td>\n",
       "      <td>37.483511</td>\n",
       "      <td>37.499638</td>\n",
       "      <td>0</td>\n",
       "      <td>NaN</td>\n",
       "      <td>NaN</td>\n",
       "      <td>00:00~23:59</td>\n",
       "      <td>NaN</td>\n",
       "      <td>NaN</td>\n",
       "      <td>NaN</td>\n",
       "      <td>500.0</td>\n",
       "      <td>인천광역시 중구청</td>\n",
       "    </tr>\n",
       "    <tr>\n",
       "      <th>92</th>\n",
       "      <td>인천광역시 중구</td>\n",
       "      <td>하늘달빛로</td>\n",
       "      <td>37.487108</td>\n",
       "      <td>37.481611</td>\n",
       "      <td>0</td>\n",
       "      <td>NaN</td>\n",
       "      <td>NaN</td>\n",
       "      <td>00:00~23:59</td>\n",
       "      <td>NaN</td>\n",
       "      <td>NaN</td>\n",
       "      <td>NaN</td>\n",
       "      <td>190.0</td>\n",
       "      <td>인천광역시 중구청</td>\n",
       "    </tr>\n",
       "    <tr>\n",
       "      <th>93</th>\n",
       "      <td>인천광역시 중구</td>\n",
       "      <td>하늘달빛로2번길</td>\n",
       "      <td>37.481611</td>\n",
       "      <td>37.485681</td>\n",
       "      <td>0</td>\n",
       "      <td>NaN</td>\n",
       "      <td>NaN</td>\n",
       "      <td>00:00~23:59</td>\n",
       "      <td>NaN</td>\n",
       "      <td>NaN</td>\n",
       "      <td>NaN</td>\n",
       "      <td>120.0</td>\n",
       "      <td>인천광역시 중구청</td>\n",
       "    </tr>\n",
       "    <tr>\n",
       "      <th>...</th>\n",
       "      <td>...</td>\n",
       "      <td>...</td>\n",
       "      <td>...</td>\n",
       "      <td>...</td>\n",
       "      <td>...</td>\n",
       "      <td>...</td>\n",
       "      <td>...</td>\n",
       "      <td>...</td>\n",
       "      <td>...</td>\n",
       "      <td>...</td>\n",
       "      <td>...</td>\n",
       "      <td>...</td>\n",
       "      <td>...</td>\n",
       "    </tr>\n",
       "    <tr>\n",
       "      <th>180</th>\n",
       "      <td>인천광역시 부평구</td>\n",
       "      <td>삼산동</td>\n",
       "      <td>인천광역시 부평구 평천로 388 앞</td>\n",
       "      <td>인천광역시 부평구 평천로 394(농협삼산지점)</td>\n",
       "      <td>0</td>\n",
       "      <td>12:00</td>\n",
       "      <td>14:00</td>\n",
       "      <td>06:00</td>\n",
       "      <td>22:00</td>\n",
       "      <td>06:00</td>\n",
       "      <td>22:00</td>\n",
       "      <td>20.0</td>\n",
       "      <td>NaN</td>\n",
       "    </tr>\n",
       "    <tr>\n",
       "      <th>181</th>\n",
       "      <td>인천광역시 부평구</td>\n",
       "      <td>갈산동</td>\n",
       "      <td>인천광역시 부평구 주부토로 223, 금강프라자(주부토로219번길 접속부)</td>\n",
       "      <td>인천광역시 부평구 주부토로 231,갈산홈프라자(출입문앞)</td>\n",
       "      <td>0</td>\n",
       "      <td>12:00</td>\n",
       "      <td>14:00</td>\n",
       "      <td>00:00</td>\n",
       "      <td>23:59</td>\n",
       "      <td>00:00</td>\n",
       "      <td>23:59</td>\n",
       "      <td>20.0</td>\n",
       "      <td>NaN</td>\n",
       "    </tr>\n",
       "    <tr>\n",
       "      <th>182</th>\n",
       "      <td>인천광역시 부평구</td>\n",
       "      <td>부개동</td>\n",
       "      <td>인천광역시 부평구 부흥로 381(부평기원앞)</td>\n",
       "      <td>인천광역시 부평구 부흥로 389(백산빌딩)</td>\n",
       "      <td>0</td>\n",
       "      <td>12:00</td>\n",
       "      <td>14:00</td>\n",
       "      <td>NaN</td>\n",
       "      <td>NaN</td>\n",
       "      <td>NaN</td>\n",
       "      <td>NaN</td>\n",
       "      <td>10.0</td>\n",
       "      <td>NaN</td>\n",
       "    </tr>\n",
       "    <tr>\n",
       "      <th>183</th>\n",
       "      <td>인천광역시 부평구</td>\n",
       "      <td>부개동</td>\n",
       "      <td>인천광역시 부평구 경인로1032번길 경인철강</td>\n",
       "      <td>인천광역시 부평구 경인로1032번길 이편한세상어반루체</td>\n",
       "      <td>0</td>\n",
       "      <td>21:00</td>\n",
       "      <td>06:00</td>\n",
       "      <td>NaN</td>\n",
       "      <td>NaN</td>\n",
       "      <td>NaN</td>\n",
       "      <td>NaN</td>\n",
       "      <td>20.0</td>\n",
       "      <td>NaN</td>\n",
       "    </tr>\n",
       "    <tr>\n",
       "      <th>184</th>\n",
       "      <td>인천광역시 부평구</td>\n",
       "      <td>청천동</td>\n",
       "      <td>인천광역시 부평구 세월천로 178 육교 앞</td>\n",
       "      <td>인천광역시 부평구 세월천로 원적산공원입구삼거리</td>\n",
       "      <td>0</td>\n",
       "      <td>12:00</td>\n",
       "      <td>14:00</td>\n",
       "      <td>00:00</td>\n",
       "      <td>23:59</td>\n",
       "      <td>00:00</td>\n",
       "      <td>23:59</td>\n",
       "      <td>60.0</td>\n",
       "      <td>NaN</td>\n",
       "    </tr>\n",
       "  </tbody>\n",
       "</table>\n",
       "<p>88 rows × 13 columns</p>\n",
       "</div>"
      ],
      "text/plain": [
       "           지역구       지역명                                    주차 시작점  \\\n",
       "89    인천광역시 중구      은하수로                                 37.492322   \n",
       "90    인천광역시 중구     하늘별빛로                                 37.494568   \n",
       "91    인천광역시 중구     하늘중앙로                                 37.483511   \n",
       "92    인천광역시 중구     하늘달빛로                                 37.487108   \n",
       "93    인천광역시 중구  하늘달빛로2번길                                 37.481611   \n",
       "..         ...       ...                                       ...   \n",
       "180  인천광역시 부평구       삼산동                       인천광역시 부평구 평천로 388 앞   \n",
       "181  인천광역시 부평구       갈산동  인천광역시 부평구 주부토로 223, 금강프라자(주부토로219번길 접속부)   \n",
       "182  인천광역시 부평구       부개동                  인천광역시 부평구 부흥로 381(부평기원앞)   \n",
       "183  인천광역시 부평구       부개동                  인천광역시 부평구 경인로1032번길 경인철강   \n",
       "184  인천광역시 부평구       청천동                   인천광역시 부평구 세월천로 178 육교 앞   \n",
       "\n",
       "                               주차 종료점  구간길이 평일운영시작시각 평일운영종료시각     주말운영시작시각  \\\n",
       "89                          37.491748     0      NaN      NaN  00:00~23:59   \n",
       "90                          37.485681     0      NaN      NaN  00:00~23:59   \n",
       "91                          37.499638     0      NaN      NaN  00:00~23:59   \n",
       "92                          37.481611     0      NaN      NaN  00:00~23:59   \n",
       "93                          37.485681     0      NaN      NaN  00:00~23:59   \n",
       "..                                ...   ...      ...      ...          ...   \n",
       "180         인천광역시 부평구 평천로 394(농협삼산지점)     0    12:00    14:00        06:00   \n",
       "181  인천광역시 부평구 주부토로 231,갈산홈프라자(출입문앞)      0    12:00    14:00        00:00   \n",
       "182           인천광역시 부평구 부흥로 389(백산빌딩)     0    12:00    14:00          NaN   \n",
       "183     인천광역시 부평구 경인로1032번길 이편한세상어반루체     0    21:00    06:00          NaN   \n",
       "184         인천광역시 부평구 세월천로 원적산공원입구삼거리     0    12:00    14:00        00:00   \n",
       "\n",
       "    주말운영종료시각 공휴일운영시작시각 공휴일운영종료시각  주차가능대수        관할동  \n",
       "89       NaN       NaN       NaN   100.0  인천광역시 중구청  \n",
       "90       NaN       NaN       NaN   320.0  인천광역시 중구청  \n",
       "91       NaN       NaN       NaN   500.0  인천광역시 중구청  \n",
       "92       NaN       NaN       NaN   190.0  인천광역시 중구청  \n",
       "93       NaN       NaN       NaN   120.0  인천광역시 중구청  \n",
       "..       ...       ...       ...     ...        ...  \n",
       "180    22:00     06:00     22:00    20.0        NaN  \n",
       "181    23:59     00:00     23:59    20.0        NaN  \n",
       "182      NaN       NaN       NaN    10.0        NaN  \n",
       "183      NaN       NaN       NaN    20.0        NaN  \n",
       "184    23:59     00:00     23:59    60.0        NaN  \n",
       "\n",
       "[88 rows x 13 columns]"
      ]
     },
     "execution_count": 147,
     "metadata": {},
     "output_type": "execute_result"
    }
   ],
   "source": [
    "df.loc[df['구간길이'] == df['구간길이'].min() , ]"
   ]
  },
  {
   "cell_type": "code",
   "execution_count": 148,
   "id": "bfc76bdb",
   "metadata": {},
   "outputs": [
    {
     "data": {
      "text/html": [
       "<div>\n",
       "<style scoped>\n",
       "    .dataframe tbody tr th:only-of-type {\n",
       "        vertical-align: middle;\n",
       "    }\n",
       "\n",
       "    .dataframe tbody tr th {\n",
       "        vertical-align: top;\n",
       "    }\n",
       "\n",
       "    .dataframe thead th {\n",
       "        text-align: right;\n",
       "    }\n",
       "</style>\n",
       "<table border=\"1\" class=\"dataframe\">\n",
       "  <thead>\n",
       "    <tr style=\"text-align: right;\">\n",
       "      <th></th>\n",
       "      <th>지역구</th>\n",
       "      <th>지역명</th>\n",
       "      <th>주차 시작점</th>\n",
       "      <th>주차 종료점</th>\n",
       "      <th>구간길이</th>\n",
       "      <th>평일운영시작시각</th>\n",
       "      <th>평일운영종료시각</th>\n",
       "      <th>주말운영시작시각</th>\n",
       "      <th>주말운영종료시각</th>\n",
       "      <th>공휴일운영시작시각</th>\n",
       "      <th>공휴일운영종료시각</th>\n",
       "      <th>주차가능대수</th>\n",
       "      <th>관할동</th>\n",
       "    </tr>\n",
       "  </thead>\n",
       "  <tbody>\n",
       "    <tr>\n",
       "      <th>36</th>\n",
       "      <td>인천광역시 남동구</td>\n",
       "      <td>수현로</td>\n",
       "      <td>삼부아파트↔수현삼거리</td>\n",
       "      <td>NaN</td>\n",
       "      <td>2000</td>\n",
       "      <td>00:00~24:00 (공휴일 제외)+금지차종 : 1.4t이상 화물차</td>\n",
       "      <td>NaN</td>\n",
       "      <td>NaN</td>\n",
       "      <td>NaN</td>\n",
       "      <td>NaN</td>\n",
       "      <td>NaN</td>\n",
       "      <td>NaN</td>\n",
       "      <td>장수서창동</td>\n",
       "    </tr>\n",
       "  </tbody>\n",
       "</table>\n",
       "</div>"
      ],
      "text/plain": [
       "          지역구  지역명       주차 시작점 주차 종료점  구간길이  \\\n",
       "36  인천광역시 남동구  수현로  삼부아파트↔수현삼거리    NaN  2000   \n",
       "\n",
       "                                  평일운영시작시각 평일운영종료시각 주말운영시작시각 주말운영종료시각  \\\n",
       "36  00:00~24:00 (공휴일 제외)+금지차종 : 1.4t이상 화물차      NaN      NaN      NaN   \n",
       "\n",
       "   공휴일운영시작시각 공휴일운영종료시각  주차가능대수    관할동  \n",
       "36       NaN       NaN     NaN  장수서창동  "
      ]
     },
     "execution_count": 148,
     "metadata": {},
     "output_type": "execute_result"
    }
   ],
   "source": [
    "df.loc[df['구간길이'] == df['구간길이'].max() , ]"
   ]
  },
  {
   "cell_type": "code",
   "execution_count": 149,
   "id": "a3430b57",
   "metadata": {},
   "outputs": [
    {
     "data": {
      "text/plain": [
       "64"
      ]
     },
     "execution_count": 149,
     "metadata": {},
     "output_type": "execute_result"
    }
   ],
   "source": [
    "df['구간길이'].nunique()"
   ]
  },
  {
   "cell_type": "code",
   "execution_count": 150,
   "id": "94a8216e",
   "metadata": {
    "scrolled": false
   },
   "outputs": [
    {
     "data": {
      "text/plain": [
       "구간길이\n",
       "0       88\n",
       "200     11\n",
       "300      8\n",
       "800      5\n",
       "170      5\n",
       "        ..\n",
       "1000     1\n",
       "370      1\n",
       "145      1\n",
       "158      1\n",
       "1200     1\n",
       "Name: count, Length: 64, dtype: int64"
      ]
     },
     "execution_count": 150,
     "metadata": {},
     "output_type": "execute_result"
    }
   ],
   "source": [
    "df['구간길이'].value_counts()"
   ]
  },
  {
   "cell_type": "code",
   "execution_count": 151,
   "id": "ff9f6717",
   "metadata": {},
   "outputs": [
    {
     "data": {
      "image/png": "[encoded data removed]",
      "text/plain": [
       "<Figure size 640x480 with 1 Axes>"
      ]
     },
     "metadata": {},
     "output_type": "display_data"
    }
   ],
   "source": [
    "plt.hist(data= df_sv1, x='구간길이',rwidth=0.8)\n",
    "plt.show()"
   ]
  },
  {
   "cell_type": "code",
   "execution_count": 152,
   "id": "cb33cb55",
   "metadata": {},
   "outputs": [],
   "source": [
    "df_ze = df[df['구간길이'] != 0]['구간길이']"
   ]
  },
  {
   "cell_type": "code",
   "execution_count": 163,
   "id": "5eebb557",
   "metadata": {},
   "outputs": [
    {
     "name": "stderr",
     "output_type": "stream",
     "text": [
      "C:\\Users\\leegy\\anaconda3\\Lib\\site-packages\\IPython\\core\\pylabtools.py:152: UserWarning: Glyph 54217 (\\N{HANGUL SYLLABLE PYEONG}) missing from current font.\n",
      "  fig.canvas.print_figure(bytes_io, **kw)\n",
      "C:\\Users\\leegy\\anaconda3\\Lib\\site-packages\\IPython\\core\\pylabtools.py:152: UserWarning: Glyph 44512 (\\N{HANGUL SYLLABLE GYUN}) missing from current font.\n",
      "  fig.canvas.print_figure(bytes_io, **kw)\n",
      "C:\\Users\\leegy\\anaconda3\\Lib\\site-packages\\IPython\\core\\pylabtools.py:152: UserWarning: Glyph 44600 (\\N{HANGUL SYLLABLE GIL}) missing from current font.\n",
      "  fig.canvas.print_figure(bytes_io, **kw)\n",
      "C:\\Users\\leegy\\anaconda3\\Lib\\site-packages\\IPython\\core\\pylabtools.py:152: UserWarning: Glyph 51060 (\\N{HANGUL SYLLABLE I}) missing from current font.\n",
      "  fig.canvas.print_figure(bytes_io, **kw)\n",
      "C:\\Users\\leegy\\anaconda3\\Lib\\site-packages\\IPython\\core\\pylabtools.py:152: UserWarning: Glyph 48120 (\\N{HANGUL SYLLABLE MI}) missing from current font.\n",
      "  fig.canvas.print_figure(bytes_io, **kw)\n",
      "C:\\Users\\leegy\\anaconda3\\Lib\\site-packages\\IPython\\core\\pylabtools.py:152: UserWarning: Glyph 54869 (\\N{HANGUL SYLLABLE HWAG}) missing from current font.\n",
      "  fig.canvas.print_figure(bytes_io, **kw)\n",
      "C:\\Users\\leegy\\anaconda3\\Lib\\site-packages\\IPython\\core\\pylabtools.py:152: UserWarning: Glyph 51064 (\\N{HANGUL SYLLABLE IN}) missing from current font.\n",
      "  fig.canvas.print_figure(bytes_io, **kw)\n",
      "C:\\Users\\leegy\\anaconda3\\Lib\\site-packages\\IPython\\core\\pylabtools.py:152: UserWarning: Glyph 51228 (\\N{HANGUL SYLLABLE JE}) missing from current font.\n",
      "  fig.canvas.print_figure(bytes_io, **kw)\n",
      "C:\\Users\\leegy\\anaconda3\\Lib\\site-packages\\IPython\\core\\pylabtools.py:152: UserWarning: Glyph 50808 (\\N{HANGUL SYLLABLE OE}) missing from current font.\n",
      "  fig.canvas.print_figure(bytes_io, **kw)\n",
      "C:\\Users\\leegy\\anaconda3\\Lib\\site-packages\\IPython\\core\\pylabtools.py:152: UserWarning: Glyph 44396 (\\N{HANGUL SYLLABLE GU}) missing from current font.\n",
      "  fig.canvas.print_figure(bytes_io, **kw)\n",
      "C:\\Users\\leegy\\anaconda3\\Lib\\site-packages\\IPython\\core\\pylabtools.py:152: UserWarning: Glyph 44036 (\\N{HANGUL SYLLABLE GAN}) missing from current font.\n",
      "  fig.canvas.print_figure(bytes_io, **kw)\n"
     ]
    },
    {
     "data": {
      "image/png": "[encoded data removed]",
      "text/plain": [
       "<Figure size 640x480 with 1 Axes>"
      ]
     },
     "metadata": {},
     "output_type": "display_data"
    }
   ],
   "source": [
    "plt.hist(df_ze, bins='auto', rwidth=0.8)\n",
    "plt.xlabel('구간길이')\n",
    "plt.title('평균 길이(미확인 제외)')\n",
    "plt.show()"
   ]
  },
  {
   "cell_type": "code",
   "execution_count": 154,
   "id": "35c50dfd",
   "metadata": {},
   "outputs": [
    {
     "data": {
      "text/plain": [
       "0      15.0\n",
       "1      60.0\n",
       "2      15.0\n",
       "3      20.0\n",
       "4      60.0\n",
       "       ... \n",
       "202    80.0\n",
       "203    20.0\n",
       "204    39.0\n",
       "205    15.0\n",
       "206     5.0\n",
       "Name: 주차가능대수, Length: 207, dtype: float64"
      ]
     },
     "execution_count": 154,
     "metadata": {},
     "output_type": "execute_result"
    }
   ],
   "source": [
    "df['주차가능대수']"
   ]
  },
  {
   "cell_type": "code",
   "execution_count": 155,
   "id": "e5547227",
   "metadata": {},
   "outputs": [
    {
     "data": {
      "text/plain": [
       "51"
      ]
     },
     "execution_count": 155,
     "metadata": {},
     "output_type": "execute_result"
    }
   ],
   "source": [
    "df['주차가능대수'].nunique()"
   ]
  },
  {
   "cell_type": "code",
   "execution_count": 156,
   "id": "980329be",
   "metadata": {},
   "outputs": [
    {
     "data": {
      "text/plain": [
       "주차가능대수\n",
       "20.0     17\n",
       "15.0      8\n",
       "10.0      8\n",
       "80.0      7\n",
       "60.0      6\n",
       "40.0      6\n",
       "45.0      5\n",
       "35.0      4\n",
       "120.0     4\n",
       "70.0      3\n",
       "4.0       3\n",
       "5.0       3\n",
       "100.0     3\n",
       "500.0     3\n",
       "74.0      2\n",
       "25.0      2\n",
       "50.0      2\n",
       "7.0       2\n",
       "220.0     2\n",
       "3.0       2\n",
       "8.0       2\n",
       "150.0     1\n",
       "28.0      1\n",
       "23.0      1\n",
       "2.0       1\n",
       "160.0     1\n",
       "6.0       1\n",
       "110.0     1\n",
       "30.0      1\n",
       "72.0      1\n",
       "57.0      1\n",
       "194.0     1\n",
       "64.0      1\n",
       "320.0     1\n",
       "190.0     1\n",
       "600.0     1\n",
       "112.0     1\n",
       "380.0     1\n",
       "520.0     1\n",
       "184.0     1\n",
       "640.0     1\n",
       "280.0     1\n",
       "116.0     1\n",
       "19.0      1\n",
       "170.0     1\n",
       "90.0      1\n",
       "87.0      1\n",
       "97.0      1\n",
       "22.0      1\n",
       "71.0      1\n",
       "39.0      1\n",
       "Name: count, dtype: int64"
      ]
     },
     "execution_count": 156,
     "metadata": {},
     "output_type": "execute_result"
    }
   ],
   "source": [
    "df['주차가능대수'].value_counts()"
   ]
  },
  {
   "cell_type": "code",
   "execution_count": 157,
   "id": "6c51cb35",
   "metadata": {
    "scrolled": false
   },
   "outputs": [
    {
     "data": {
      "image/png": "[encoded data removed]",
      "text/plain": [
       "<Figure size 640x480 with 1 Axes>"
      ]
     },
     "metadata": {},
     "output_type": "display_data"
    }
   ],
   "source": [
    "plt.hist(data= df, x='주차가능대수', rwidth=0.8, bins=20)\n",
    "plt.show()"
   ]
  },
  {
   "cell_type": "code",
   "execution_count": null,
   "id": "b9d72b7c",
   "metadata": {},
   "outputs": [],
   "source": []
  },
  {
   "cell_type": "code",
   "execution_count": 158,
   "id": "100f7357",
   "metadata": {},
   "outputs": [],
   "source": [
    "df['주차가능대수'] = df['주차가능대수'].fillna(0).astype(int)"
   ]
  },
  {
   "cell_type": "code",
   "execution_count": 159,
   "id": "5198eaa6",
   "metadata": {
    "scrolled": true
   },
   "outputs": [
    {
     "data": {
      "text/plain": [
       "0      15\n",
       "1      60\n",
       "2      15\n",
       "3      20\n",
       "4      60\n",
       "       ..\n",
       "202    80\n",
       "203    20\n",
       "204    39\n",
       "205    15\n",
       "206     5\n",
       "Name: 주차가능대수, Length: 207, dtype: int32"
      ]
     },
     "execution_count": 159,
     "metadata": {},
     "output_type": "execute_result"
    }
   ],
   "source": [
    "df['주차가능대수']"
   ]
  },
  {
   "cell_type": "code",
   "execution_count": 160,
   "id": "6eb6dc89",
   "metadata": {},
   "outputs": [],
   "source": [
    "df['구간길이(m)']= df['구간길이']"
   ]
  },
  {
   "cell_type": "code",
   "execution_count": null,
   "id": "b356fb6e",
   "metadata": {},
   "outputs": [],
   "source": []
  },
  {
   "cell_type": "code",
   "execution_count": null,
   "id": "5ef7d386",
   "metadata": {},
   "outputs": [],
   "source": []
  },
  {
   "cell_type": "code",
   "execution_count": null,
   "id": "aaddb130",
   "metadata": {},
   "outputs": [],
   "source": []
  },
  {
   "cell_type": "code",
   "execution_count": null,
   "id": "4c4df619",
   "metadata": {},
   "outputs": [],
   "source": []
  },
  {
   "cell_type": "code",
   "execution_count": null,
   "id": "b3f1a5c3",
   "metadata": {},
   "outputs": [],
   "source": []
  },
  {
   "cell_type": "code",
   "execution_count": null,
   "id": "a4a19651",
   "metadata": {},
   "outputs": [],
   "source": []
  },
  {
   "cell_type": "code",
   "execution_count": null,
   "id": "d0e1c78b",
   "metadata": {},
   "outputs": [],
   "source": []
  },
  {
   "cell_type": "code",
   "execution_count": null,
   "id": "8ba162a6",
   "metadata": {},
   "outputs": [],
   "source": []
  },
  {
   "cell_type": "code",
   "execution_count": null,
   "id": "153a416c",
   "metadata": {},
   "outputs": [],
   "source": []
  },
  {
   "cell_type": "code",
   "execution_count": null,
   "id": "430a7034",
   "metadata": {},
   "outputs": [],
   "source": []
  },
  {
   "cell_type": "code",
   "execution_count": null,
   "id": "6ed5766e",
   "metadata": {},
   "outputs": [],
   "source": []
  },
  {
   "cell_type": "code",
   "execution_count": null,
   "id": "dde83e3b",
   "metadata": {},
   "outputs": [],
   "source": []
  },
  {
   "cell_type": "code",
   "execution_count": null,
   "id": "d660cd0e",
   "metadata": {},
   "outputs": [],
   "source": []
  },
  {
   "cell_type": "code",
   "execution_count": null,
   "id": "ca9cefd3",
   "metadata": {},
   "outputs": [],
   "source": []
  },
  {
   "cell_type": "code",
   "execution_count": null,
   "id": "60f9a65e",
   "metadata": {},
   "outputs": [],
   "source": []
  },
  {
   "cell_type": "code",
   "execution_count": null,
   "id": "c5799dfe",
   "metadata": {},
   "outputs": [],
   "source": []
  },
  {
   "cell_type": "code",
   "execution_count": null,
   "id": "928b5aa9",
   "metadata": {},
   "outputs": [],
   "source": []
  },
  {
   "cell_type": "code",
   "execution_count": null,
   "id": "23a8cadd",
   "metadata": {},
   "outputs": [],
   "source": []
  },
  {
   "cell_type": "code",
   "execution_count": null,
   "id": "6ad76008",
   "metadata": {},
   "outputs": [],
   "source": []
  },
  {
   "cell_type": "code",
   "execution_count": null,
   "id": "1f67fe40",
   "metadata": {},
   "outputs": [],
   "source": []
  },
  {
   "cell_type": "code",
   "execution_count": null,
   "id": "674af9f0",
   "metadata": {},
   "outputs": [],
   "source": []
  },
  {
   "cell_type": "code",
   "execution_count": null,
   "id": "da9d535b",
   "metadata": {},
   "outputs": [],
   "source": []
  }
 ],
 "metadata": {
  "kernelspec": {
   "display_name": "Python 3 (ipykernel)",
   "language": "python",
   "name": "python3"
  },
  "language_info": {
   "codemirror_mode": {
    "name": "ipython",
    "version": 3
   },
   "file_extension": ".py",
   "mimetype": "text/x-python",
   "name": "python",
   "nbconvert_exporter": "python",
   "pygments_lexer": "ipython3",
   "version": "3.11.5"
  }
 },
 "nbformat": 4,
 "nbformat_minor": 5
}
